{
 "cells": [
  {
   "cell_type": "code",
   "execution_count": null,
   "metadata": {
    "vscode": {
     "languageId": "plaintext"
    }
   },
   "outputs": [],
   "source": [
    "import os\n",
    "import numpy as np\n",
    "import pandas as pd\n",
    "from tensorflow.keras.preprocessing.image import ImageDataGenerator, load_img, img_to_array, save_img\n",
    "from tensorflow.keras.applications.mobilenet import MobileNet, preprocess_input\n",
    "from tensorflow.keras.models import Sequential\n",
    "from tensorflow.keras.layersimport Dense, GlobalAveragePooling2D\n",
    "from skimage.restoration import denoise_nl_means, estimate_sigma\n",
    "from skimage.transform import resize\n",
    "import zipfile\n",
    "import shutil\n",
    "import matplotlib.pyplot as plt\n",
    "import matplotlib.image as mpimg\n",
    "from sklearn.preprocessing import LabelEncoder"
   ]
  },
  {
   "cell_type": "code",
   "execution_count": null,
   "metadata": {
    "vscode": {
     "languageId": "plaintext"
    }
   },
   "outputs": [],
   "source": [
    "# Install and configure Kaggle\n",
    "!pip install kaggle\n",
    "!mkdir -p ~/.kaggle\n",
    "!cp kaggle.json ~/.kaggle/\n",
    "!chmod 600 ~/.kaggle/kaggle.json\n",
    "!kaggle datasets download -d kmader/skin-cancer-mnist-ham10000\n",
    "\n",
    "# Extract the dataset\n",
    "with zipfile.ZipFile('/content/skin-cancer-mnist-ham10000.zip', 'r') as zip_ref:\n",
    "zip_ref.extractall('dataset')"
   ]
  },
  {
   "cell_type": "markdown",
   "metadata": {},
   "source": [
    "# Load metadata\n",
    "df = pd.read_csv(\"/content/dataset/HAM10000_metadata.csv\")\n",
    "print(df)\n",
    "print(df['dx'].value_counts())\n",
    "df.drop(['lesion_id', 'dx_type', 'sex', 'localization', 'age'], axis=1, inplace=True)\n",
    "df = df.rename(columns={'dx': 'label'})\n",
    "label_encoder = LabelEncoder()\n",
    "df['label'] = label_encoder.fit_transform(df['label'])\n",
    "df['label'] = df['label'].astype(str)\n",
    "print(df['label'].value_counts())\n",
    "\n",
    "# Copy images to a single directory\n",
    "source_folder1 = '/content/dataset/HAM10000_images_part_1'"
   ]
  }
 ],
 "metadata": {
  "language_info": {
   "name": "python"
  }
 },
 "nbformat": 4,
 "nbformat_minor": 2
}
