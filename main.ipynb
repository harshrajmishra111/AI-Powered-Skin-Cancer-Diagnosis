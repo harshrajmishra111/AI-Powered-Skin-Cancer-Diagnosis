{
 "cells": [
  {
   "cell_type": "code",
   "execution_count": null,
   "metadata": {
    "vscode": {
     "languageId": "plaintext"
    }
   },
   "outputs": [],
   "source": [
    "import os\n",
    "import numpy as np\n",
    "import pandas as pd\n",
    "from tensorflow.keras.preprocessing.image import ImageDataGenerator, load_img, img_to_array, save_img\n",
    "from tensorflow.keras.applications.mobilenet import MobileNet, preprocess_input\n",
    "from tensorflow.keras.models import Sequential\n",
    "from tensorflow.keras.layersimport Dense, GlobalAveragePooling2D\n",
    "from skimage.restoration import denoise_nl_means, estimate_sigma\n",
    "from skimage.transform import resize\n",
    "import zipfile\n",
    "import shutil\n",
    "import matplotlib.pyplot as plt\n",
    "import matplotlib.image as mpimg\n",
    "from sklearn.preprocessing import LabelEncoder"
   ]
  },
  {
   "cell_type": "code",
   "execution_count": null,
   "metadata": {
    "vscode": {
     "languageId": "plaintext"
    }
   },
   "outputs": [],
   "source": [
    "# Install and configure Kaggle\n",
    "!pip install kaggle\n",
    "!mkdir -p ~/.kaggle\n",
    "!cp kaggle.json ~/.kaggle/\n",
    "!chmod 600 ~/.kaggle/kaggle.json\n",
    "!kaggle datasets download -d kmader/skin-cancer-mnist-ham10000\n",
    "\n",
    "# Extract the dataset\n",
    "with zipfile.ZipFile('/content/skin-cancer-mnist-ham10000.zip', 'r') as zip_ref:\n",
    "zip_ref.extractall('dataset')"
   ]
  },
  {
   "cell_type": "markdown",
   "metadata": {},
   "source": []
  },
  {
   "cell_type": "code",
   "execution_count": null,
   "metadata": {
    "vscode": {
     "languageId": "plaintext"
    }
   },
   "outputs": [],
   "source": [
    "# Load metadata\n",
    "df = pd.read_csv(\"/content/dataset/HAM10000_metadata.csv\")\n",
    "print(df)\n",
    "print(df['dx'].value_counts())\n",
    "df.drop(['lesion_id', 'dx_type', 'sex', 'localization', 'age'], axis=1, inplace=True)\n",
    "df = df.rename(columns={'dx': 'label'})\n",
    "label_encoder = LabelEncoder()\n",
    "df['label'] = label_encoder.fit_transform(df['label'])\n",
    "df['label'] = df['label'].astype(str)\n",
    "print(df['label'].value_counts())\n",
    "\n",
    "# Copy images to a single directory\n",
    "source_folder1 = '/content/dataset/HAM10000_images_part_1'\n",
    "source_folder2 = '/content/dataset/HAM10000_images_part_2'\n",
    "destination_folder = '/content/images'\n",
    "shutil.copytree(source_folder1, destination_folder)\n",
    "shutil.copytree(source_folder2, destination_folder, dirs_exist_ok=True)\n",
    "\n",
    "# Define image paths\n",
    "df['image_path'] = df['image_id'].apply(lambda x: f'/content/images/{x}.jpg')\n",
    "df['preprocessed_path'] = df['image_id'].apply(lambda x: f'/content/preprocessed_images/{x}.jpg')\n",
    "\n",
    "os.makedirs('/content/preprocessed_images', exist_ok=True)\n",
    "\n",
    "def preprocess_and_save_image(row):\n",
    "    img = load_img(row['image_path'])\n",
    "    img = img_to_array(img)\n",
    "    img = resize(img, (224, 224), preserve_range=True, anti_aliasing=True)\n",
    "\n",
    "    # Apply Non-Local Means filter\n",
    "    sigma_est = np.mean(estimate_sigma(img, multichannel=True))\n",
    "    patch_kw = dict(patch_size=5, patch_distance=6, multichannel=True)\n",
    "    img = denoise_nl_means(img, h=1.15 * sigma_est, fast_mode=True, **patch_kw)\n",
    "\n",
    "    img = preprocess_input(img)\n",
    "    save_img(row['preprocessed_path'], img)\n",
    "\n",
    "    df.apply(preprocess_and_save_image, axis=1)"
   ]
  },
  {
   "cell_type": "code",
   "execution_count": null,
   "metadata": {
    "vscode": {
     "languageId": "plaintext"
    }
   },
   "outputs": [],
   "source": [
    "# Display images before and after preprocessing\n",
    "img1 = mpimg.imread('/content/images/ISIC_0024306.jpg')\n",
    "img2 = mpimg.imread('/content/preprocessed_images/ISIC_0024306.jpg')\n",
    "plt.imshow(img1)\n",
    "plt.axis('off')\n",
    "plt.show()\n",
    "plt.imshow(img2)\n",
    "plt.axis('off')\n",
    "plt.show()"
   ]
  },
  {
   "cell_type": "code",
   "execution_count": null,
   "metadata": {
    "vscode": {
     "languageId": "plaintext"
    }
   },
   "outputs": [],
   "source": [
    "img1 = mpimg.imread('/content/images/ISIC_0024309.jpg')\n",
    "img2 = mpimg.imread('/content/preprocessed_images/ISIC_0024309.jpg')\n",
    "plt.imshow(img1)\n",
    "plt.axis('off')\n",
    "plt.show()\n",
    "plt.imshow(img2)\n",
    "plt.axis('off')\n",
    "plt.show()"
   ]
  },
  {
   "cell_type": "code",
   "execution_count": null,
   "metadata": {
    "vscode": {
     "languageId": "plaintext"
    }
   },
   "outputs": [],
   "source": [
    "# Verify the filenames are correctly created\n",
    "df['filename'] = df['image_id'].apply(lambda x: f'{x}.jpg')\n",
    "print(df.head())    # Check the dataframe to ensure 'filename' column is correctly created\n",
    "\n",
    "# Data generator\n",
    "image_dir = '/content/preprocessed_images'\n",
    "datagen = ImageDataGenerator(validation_split=0.2)\n",
    "\n",
    "\n",
    "train_generator = datagen.flow_from_dataframe(\n",
    "    dataframe=df,\n",
    "    directory=image_dir,\n",
    "    x_col='filename'\n",
    "    y_col='label',\n",
    "    target_size=(224, 224),\n",
    "    batch_size=32,\n",
    "    class_mode='sparse',\n",
    "    subset='training'\n",
    ")    \n",
    "\n",
    "validation_generator = datagen.flow_from_dataframe(\n",
    "    dataframe=df,\n",
    "    directory=image_dir,\n",
    "    x_col='filename',\n",
    "    y_col='label',\n",
    "    target_size=(224, 224),\n",
    "    batch_size=32,\n",
    "    class_mode='sparse',\n",
    "    subset='validation'\n",
    "\n",
    ")\n",
    "\n",
    "# Load MobileNet base model without the top layer, suited for your input size\n",
    "\n",
    "base_model = MobileNet(weights='imagenet', include_top=False, input_shape=(224, 224, 3))\n",
    "\n",
    "\n",
    "# Freeze the layers of the base model\n",
    "for layer in base_model.layers:\n",
    "    layer.trainable = False\n",
    "\n",
    "# Assemble the model for multiclass classification\n",
    "n_classes = 7\n",
    "model = Sequential([\n",
    "    base_model,\n",
    "    GlobalAveragePooling2D(),\n",
    "    Dense(n_classes, activation='softmax')\n",
    "])\n",
    "\n",
    "# Compile the model for multiclass classification\n",
    "model.compile(optimizer='adam', loss='sparse_categorical_crossentropy', metrics=['accuracy'])\n",
    "\n",
    "# Train the model\n",
    "model.fit(\n",
    "    train_generator,\n",
    "    steps_per_epoch=train_generator.samples // train_generator.batch_size,\n",
    "    epochs=10\n",
    ")\n",
    "\n",
    "# Save the model\n",
    "model.save('/content/mobilenet.h5')"
   ]
  },
  {
   "cell_type": "code",
   "execution_count": null,
   "metadata": {
    "vscode": {
     "languageId": "plaintext"
    }
   },
   "outputs": [],
   "source": [
    "# Evaluate the model\n",
    "train_loss, train_accuracy = model.evaluate(train_generator, steps=train_generator.samples // train_generator.batch_size)\n",
    "print(f\"Loss: {train_loss}, Accuracy: {train_accuracy}\")"
   ]
  },
  {
   "cell_type": "code",
   "execution_count": null,
   "metadata": {
    "vscode": {
     "languageId": "plaintext"
    }
   },
   "outputs": [],
   "source": [
    "# Make a prediction on a sample image\n",
    "image_path = '/content/preprocessed_images/ISIC_0024309.jpg'\n",
    "img = load_img(image_path, target_size=(224, 224))\n",
    "img_array = img_to_array(img)\n",
    "img_array_expanded = np.expand_dims(img_array, axis=0)\n",
    "img_preprocessed = preprocess_input(img_array_expanded)\n",
    "\n",
    "# Load the trained Keras model\n",
    "model = Sequential([\n",
    "    base_model,\n",
    "    GlobalAveragePooling2D(),\n",
    "    Dense(n_classes, activation='softmax')\n",
    "\n",
    "]) \n",
    "model.load_weights ('/content/mobilenet.h5')\n",
    "\n",
    "# Predict the class of the image\n",
    "predictions = model.predict(img_preprocessed)\n",
    "predicted_class_index = np.argmax(predictions[0])\n",
    "predicted_probability = predictions[0][predicted_class_index]\n",
    "\n",
    "# Display the image and prediction\n",
    "plt.imshow(img)\n",
    "plt.axis('off')\n",
    "plt.show()\n",
    "\n",
    "print(f\"Model's Prediction: Class {predicted_class_index} (Probability: {predicted_probability})\")"
   ]
  },
  {
   "cell_type": "code",
   "execution_count": null,
   "metadata": {
    "vscode": {
     "languageId": "plaintext"
    }
   },
   "outputs": [],
   "source": [
    "import gradio as gr\n",
    "\n",
    "# Function to predict and display the image and probability\n",
    "def predict(image_name):\n",
    "# Define the mapping of class indices to cancer type names\n",
    "    class_names = {\n",
    "        0: 'Actinic Keratoses',\n",
    "        1: 'Basal Cell Carcinoma',\n",
    "        2: 'Benign Keratosis-like Lesions',\n",
    "        3: 'Dermatofibroma',\n",
    "        4: 'Melanocytic Nevi's,\n",
    "        5: 'Melanoma',\n",
    "        6: 'Vascular Lesions'\n",
    "\n",
    "    }    \n",
    "\n",
    "    image_path = f'/content/preprocessed_images/{image_name}'\n",
    "    img = load_img(image_path, target_size=(224, 224))\n",
    "    img_array = img_to_array(img)\n",
    "    img_array_expanded = np.expand_dims(img_array, axis=0)\n",
    "    img_preprocessed = preprocess_input(img_array_expanded)\n",
    "\n",
    "    # Predict the class of the image\n",
    "    predictions = model.predict(img_preprocessed)\n",
    "    predicted_class_index = np.argmax(predictions[0])\n",
    "    predicted_probability = predictions[0][predicted_class_index]\n",
    "\n",
    "    # Get the cancer type name\n",
    "    predicted_cancer_type = class_names[predicted_class_index]\n",
    "\n",
    "    # Return the prediction and the image\n",
    "    return (f\"Model's Prediction: {predicted_cancer_type} (Probability: {predicted_probability})\", image_path)\n",
    "\n",
    "# Gradio UI \n",
    "interface = gr.Interface(\n",
    "    fn=predict,\n",
    "\n",
    "\n",
    "    \n",
    "\n"
   ]
  }
 ],
 "metadata": {
  "language_info": {
   "name": "python"
  }
 },
 "nbformat": 4,
 "nbformat_minor": 2
}
